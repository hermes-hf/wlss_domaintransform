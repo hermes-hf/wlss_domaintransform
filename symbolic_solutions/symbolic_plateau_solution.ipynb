{
 "cells": [
  {
   "cell_type": "code",
   "execution_count": 2,
   "id": "1869798a-ae43-43bf-b682-83eed4003593",
   "metadata": {},
   "outputs": [],
   "source": [
    "import sympy as sp\n",
    "import numpy as np\n",
    "from IPython.display import display, Math, Latex\n",
    "import codecs"
   ]
  },
  {
   "cell_type": "markdown",
   "id": "f55c3554-0ff6-4720-bda7-5d367335bc4b",
   "metadata": {},
   "source": [
    "# Introduction"
   ]
  },
  {
   "cell_type": "markdown",
   "id": "6aa2660c-8063-4826-8142-5585a39bb5db",
   "metadata": {},
   "source": [
    "In this notebook a step-by-step symbolic solution to obtain the kernel $K(x|u)$ for the problem\n",
    "\n",
    "$f(x)(1+W(x) + W(x+1)) - W(x)f(x-1) - W(x+1)f(x+1) = g(x)$\n",
    "\n",
    "when  the weights are given by a plateau at $x= 0$ with \n",
    "\n",
    "$W(x) = \\left\\{\\begin{matrix}\n",
    "\\lambda\\,, & x< 0\\\\\n",
    "\\mu, & x \\geq 0\\\\\n",
    "\\end{matrix}\\right.$\n",
    "\n",
    "The kernel is shown to be $K(x|u) = a(x)a(u)e^{-|t(x)-t(u)|}$, where $t(x)$ is given implicitly by $\\Delta t(x) = t(x)-t(x-1)$."
   ]
  },
  {
   "cell_type": "markdown",
   "id": "9226fe21-b868-4bb6-9fc4-800aa5897d40",
   "metadata": {},
   "source": [
    "We note, however, that Sympy is not powerful enough to simplify the expressions obtained here. To obtain more concise solutions, we recommend using a specialized algebra computing system such as Wolfram's Mathematica."
   ]
  },
  {
   "cell_type": "markdown",
   "id": "d90cb28b-f193-4e2f-b00a-94763f911063",
   "metadata": {},
   "source": [
    "# General solution for the plateau at $x_0 = 0$"
   ]
  },
  {
   "cell_type": "markdown",
   "id": "afb73028-6dd3-4183-bf10-50c56de74851",
   "metadata": {},
   "source": [
    "We begin by defining the weight function W(x)"
   ]
  },
  {
   "cell_type": "code",
   "execution_count": 3,
   "id": "8da710b0-1526-4040-b21f-dfcc6a387e6c",
   "metadata": {
    "scrolled": true
   },
   "outputs": [
    {
     "data": {
      "text/latex": [
       "$W(x) = $ $\\begin{cases} λ & \\text{for}\\: x < 0 \\\\μ & \\text{otherwise} \\end{cases}$"
      ],
      "text/plain": [
       "<IPython.core.display.Latex object>"
      ]
     },
     "metadata": {},
     "output_type": "display_data"
    }
   ],
   "source": [
    "x= sp.symbols('x')\n",
    "w0= sp.symbols('w0')\n",
    "λ= sp.symbols('λ')\n",
    "n = sp.symbols('n')\n",
    "μ = sp.symbols('μ')\n",
    "\n",
    "W = sp.Piecewise(\n",
    "    (λ, x <0),\n",
    "    (μ, x>=0),\n",
    ")\n",
    "\n",
    "display(Latex(r\"$W(x) = $ \" + sp.latex(W, mode='inline')))"
   ]
  },
  {
   "cell_type": "markdown",
   "id": "8da03001-9c25-452c-9cfb-7784e62485b1",
   "metadata": {},
   "source": [
    "# Explicit plateau domain transform by symbolic computing"
   ]
  },
  {
   "cell_type": "markdown",
   "id": "aa552930-b886-413c-b361-f121137c0e09",
   "metadata": {},
   "source": [
    "The $γ(λ)$ is the default value for the $B(x)$ coefficients in homogeneous regions, computed by continued fractions\n",
    "\n",
    "$B(x) = 1 + W(x) + W(x+1)  - W(x+1)^2/B(x+1)$\n",
    "\n",
    "$B(x) = 1 + λ + λ  - λ^2/B(x+1)$\n",
    "\n",
    "$B(x) = 1 + 2λ - \\frac{λ^2}{ 1 + 2λ - \\frac{λ^2}{ 1 + 2λ \\ldots}} = γ(λ)$"
   ]
  },
  {
   "cell_type": "markdown",
   "id": "a080f291-391e-4ec7-8a0c-901ee33597f8",
   "metadata": {},
   "source": [
    "# Computing B"
   ]
  },
  {
   "cell_type": "markdown",
   "id": "00072dbe-aa86-4738-81ed-3651ad96d7f9",
   "metadata": {},
   "source": [
    "If, however, $B(x)$ is not $\\textbf{all}$ equal to $\\gamma(\\lambda)$, then we can still compute $B(x-k)$ for arbitrary choice of $k$ using matrix multiplication. The idea is as follows:\n",
    "\n",
    "Suppose $B(x) = \\frac{p}{q}$ for some fraction $p/q$, and that the weights are all homogeneous for $x$ in $x+1$ to $-\\infty$.\n",
    "\n",
    "$B(x-1) = 1 + 2\\lambda - \\frac{\\lambda^2}{\\frac{p}{q}}$\n",
    "\n",
    "is simplified to\n",
    "\n",
    "$B(x-1) = \\frac{νp- λ^2q}{p}$, which means each step $x \\mapsto x-1$ is written in matrix form as \n",
    "\n",
    "$      \\begin{bmatrix}\n",
    "\\nu  & -\\lambda^2\\\\ \n",
    "1 & 0\n",
    "\\end{bmatrix}\n",
    "\\begin{bmatrix}\n",
    "p\\\\ \n",
    "r\n",
    "\\end{bmatrix} \\mapsto \\begin{bmatrix}\n",
    "\\nu p - \\lambda^2 r\\\\ \n",
    "p\n",
    "\\end{bmatrix}\\,,$\n",
    "\n",
    "Therefore $B(x-k)$ for $k>=0$ can be written in terms of $B(x) = \\frac{p}{q}$ with\n",
    "\n",
    "$  \\frac{\\text{numerator}(B(x-k))}{\\text{denominator}(B(x-k))}  =   \\begin{bmatrix}\n",
    "\\nu  & -\\lambda^2\\\\ \n",
    "1 & 0\n",
    "\\end{bmatrix}^k\n",
    "\\begin{bmatrix}\n",
    "p\\\\ \n",
    "r\n",
    "\\end{bmatrix} $\n"
   ]
  },
  {
   "cell_type": "markdown",
   "id": "24f4561d-de27-4f2d-88bc-02b1e3b69142",
   "metadata": {},
   "source": [
    "We begin my writing down the variables"
   ]
  },
  {
   "cell_type": "code",
   "execution_count": 4,
   "id": "9b4bb6a0-01fd-4572-a87c-3bbdc622b622",
   "metadata": {},
   "outputs": [
    {
     "data": {
      "text/latex": [
       "$γ = $ $λ + \\sqrt{4 λ + 1} / 2 + 1 / 2$"
      ],
      "text/plain": [
       "<IPython.core.display.Latex object>"
      ]
     },
     "metadata": {},
     "output_type": "display_data"
    },
    {
     "data": {
      "text/latex": [
       "$ν = $ $2 λ + 1$"
      ],
      "text/plain": [
       "<IPython.core.display.Latex object>"
      ]
     },
     "metadata": {},
     "output_type": "display_data"
    },
    {
     "data": {
      "text/latex": [
       "$\\displaystyle \\left[\\begin{matrix}2 λ + 1 & - λ^{2}\\\\1 & 0\\end{matrix}\\right]$"
      ],
      "text/plain": [
       "Matrix([\n",
       "[2*λ + 1, -λ**2],\n",
       "[      1,     0]])"
      ]
     },
     "metadata": {},
     "output_type": "display_data"
    }
   ],
   "source": [
    "γ =  (2 * λ + sp.sqrt(4 * λ + 1) + 1)/2\n",
    "ν = 1 + 2*λ\n",
    "Bstep_mat = sp.Matrix([[ν, -λ*λ], [1, 0]])\n",
    "\n",
    "display(Latex(r\"$γ = $ \" + sp.latex(γ, mode='inline')))\n",
    "display(Latex(r\"$ν = $ \" + sp.latex(ν, mode='inline')))\n",
    "display(Bstep_mat)"
   ]
  },
  {
   "cell_type": "markdown",
   "id": "4c527758-8598-4a7a-843f-ac225b732a71",
   "metadata": {},
   "source": [
    "## Diagonalizing B(x-k)"
   ]
  },
  {
   "cell_type": "code",
   "execution_count": 11,
   "id": "fb644cd5-39ce-49db-a28d-5bc8e96aad00",
   "metadata": {
    "scrolled": true
   },
   "outputs": [
    {
     "data": {
      "text/latex": [
       "We then have the expression, starting from $B(-1)$ for decreasing indices"
      ],
      "text/plain": [
       "<IPython.core.display.Latex object>"
      ]
     },
     "metadata": {},
     "output_type": "display_data"
    },
    {
     "data": {
      "text/latex": [
       " $B(-k-1) =$ $\\frac{B(-1) \\left(- \\frac{\\left(λ - \\sqrt{4 λ + 1} / 2 + 1 / 2\\right) \\left(λ - \\sqrt{4 λ + 1} / 2 + 1 / 2\\right)^{k}}{\\sqrt{4 λ + 1}} + \\frac{\\left(λ + \\sqrt{4 λ + 1} / 2 + 1 / 2\\right) \\left(λ + \\sqrt{4 λ + 1} / 2 + 1 / 2\\right)^{k}}{\\sqrt{4 λ + 1}}\\right) + \\frac{\\left(- 2 λ + \\sqrt{4 λ + 1} - 1\\right) \\left(λ + \\sqrt{4 λ + 1} / 2 + 1 / 2\\right) \\left(λ + \\sqrt{4 λ + 1} / 2 + 1 / 2\\right)^{k}}{2 \\sqrt{4 λ + 1}} + \\frac{\\left(λ - \\sqrt{4 λ + 1} / 2 + 1 / 2\\right) \\left(λ - \\sqrt{4 λ + 1} / 2 + 1 / 2\\right)^{k} \\left(2 λ + \\sqrt{4 λ + 1} + 1\\right)}{2 \\sqrt{4 λ + 1}}}{B(-1) \\left(- \\frac{\\left(λ - \\sqrt{4 λ + 1} / 2 + 1 / 2\\right)^{k}}{\\sqrt{4 λ + 1}} + \\frac{\\left(λ + \\sqrt{4 λ + 1} / 2 + 1 / 2\\right)^{k}}{\\sqrt{4 λ + 1}}\\right) + \\frac{\\left(- 2 λ + \\sqrt{4 λ + 1} - 1\\right) \\left(λ + \\sqrt{4 λ + 1} / 2 + 1 / 2\\right)^{k}}{2 \\sqrt{4 λ + 1}} + \\frac{\\left(λ - \\sqrt{4 λ + 1} / 2 + 1 / 2\\right)^{k} \\left(2 λ + \\sqrt{4 λ + 1} + 1\\right)}{2 \\sqrt{4 λ + 1}}}$"
      ],
      "text/plain": [
       "<IPython.core.display.Latex object>"
      ]
     },
     "metadata": {},
     "output_type": "display_data"
    }
   ],
   "source": [
    "k = sp.symbols('k')\n",
    "bstart = sp.symbols('bs')\n",
    "P, D = Bstep_mat.diagonalize()\n",
    "Pinv = P.inv()\n",
    "\n",
    "Bsteps_mat = (P * (D**k) * P.inv())*sp.Matrix([[bstart], [1]]) #bstart is the starting value of b(x) to compute b(x-k)\n",
    "\n",
    "Bsteps = Bsteps_mat[0]/Bsteps_mat[1]\n",
    "\n",
    "#the starting fracion can be chosen conveniently, we simply make q=1 to simplify computation\n",
    "display(Latex(r\"We then have the expression, starting from $B(-1)$ for decreasing indices\"))\n",
    "\n",
    "display(Latex(r\" $B(-k-1) =$ \" + sp.latex(Bsteps.subs(bstart, sp.symbols('B(-1)')), mode='inline')))\n"
   ]
  },
  {
   "cell_type": "markdown",
   "id": "095d7c54-ec2b-4dc8-847b-d13420049cf2",
   "metadata": {},
   "source": [
    "## B as a pure function"
   ]
  },
  {
   "cell_type": "markdown",
   "id": "8f849419-0923-46c1-bf1a-a3df1f4d4da2",
   "metadata": {},
   "source": [
    "We write down the function $B(x)$ as a piecewise function. Notice that it is constant equal to $\\gamma(\\mu)$ for $x\\geq0$. Then\n",
    "\n",
    "\\begin{matrix}\n",
    "B(0) & =  \\gamma(\\mu)\\\\\n",
    "B(-1) & = 1 + \\lambda + \\mu - \\mu^2/B(0)\\\\\n",
    "B(-2) & = 1 + 2\\lambda - \\lambda^2/B(0)\n",
    "\\end{matrix}"
   ]
  },
  {
   "cell_type": "code",
   "execution_count": 18,
   "id": "087d5dc5-3307-43e0-8881-fa3d057770e5",
   "metadata": {},
   "outputs": [
    {
     "data": {
      "text/latex": [
       "We obtain the large expression"
      ],
      "text/plain": [
       "<IPython.core.display.Latex object>"
      ]
     },
     "metadata": {},
     "output_type": "display_data"
    },
    {
     "data": {
      "text/latex": [
       " $B(x) =$ $\\begin{cases} μ + \\sqrt{4 μ + 1} / 2 + 1 / 2 & \\text{for}\\: x \\geq 0 \\\\\\frac{\\left(- \\frac{\\left(λ - \\sqrt{4 λ + 1} / 2 + 1 / 2\\right) \\left(λ - \\sqrt{4 λ + 1} / 2 + 1 / 2\\right)^{- x - 1}}{\\sqrt{4 λ + 1}} + \\frac{\\left(λ + \\sqrt{4 λ + 1} / 2 + 1 / 2\\right) \\left(λ + \\sqrt{4 λ + 1} / 2 + 1 / 2\\right)^{- x - 1}}{\\sqrt{4 λ + 1}}\\right) \\left(λ - \\frac{μ^{2}}{μ + \\sqrt{4 μ + 1} / 2 + 1 / 2} + μ + 1\\right) + \\frac{\\left(- 2 λ + \\sqrt{4 λ + 1} - 1\\right) \\left(λ + \\sqrt{4 λ + 1} / 2 + 1 / 2\\right) \\left(λ + \\sqrt{4 λ + 1} / 2 + 1 / 2\\right)^{- x - 1}}{2 \\sqrt{4 λ + 1}} + \\frac{\\left(λ - \\sqrt{4 λ + 1} / 2 + 1 / 2\\right) \\left(λ - \\sqrt{4 λ + 1} / 2 + 1 / 2\\right)^{- x - 1} \\cdot \\left(2 λ + \\sqrt{4 λ + 1} + 1\\right)}{2 \\sqrt{4 λ + 1}}}{\\left(- \\frac{\\left(λ - \\sqrt{4 λ + 1} / 2 + 1 / 2\\right)^{- x - 1}}{\\sqrt{4 λ + 1}} + \\frac{\\left(λ + \\sqrt{4 λ + 1} / 2 + 1 / 2\\right)^{- x - 1}}{\\sqrt{4 λ + 1}}\\right) \\left(λ - \\frac{μ^{2}}{μ + \\sqrt{4 μ + 1} / 2 + 1 / 2} + μ + 1\\right) + \\frac{\\left(- 2 λ + \\sqrt{4 λ + 1} - 1\\right) \\left(λ + \\sqrt{4 λ + 1} / 2 + 1 / 2\\right)^{- x - 1}}{2 \\sqrt{4 λ + 1}} + \\frac{\\left(λ - \\sqrt{4 λ + 1} / 2 + 1 / 2\\right)^{- x - 1} \\cdot \\left(2 λ + \\sqrt{4 λ + 1} + 1\\right)}{2 \\sqrt{4 λ + 1}}} & \\text{for}\\: x \\leq -1 \\end{cases}$"
      ],
      "text/plain": [
       "<IPython.core.display.Latex object>"
      ]
     },
     "metadata": {},
     "output_type": "display_data"
    }
   ],
   "source": [
    "Bx0 = γ.subs(λ,μ)\n",
    "Bxm1 =  1 + W.subs(x,-1)+ W.subs(x,0) - W.subs(x,0)**2/Bx0\n",
    "\n",
    "\n",
    "B = sp.Piecewise(\n",
    "    (Bx0 , (x>=0)), #at x>=0\n",
    "    (Bsteps.replace(k,-x-1).replace(bstart, Bxm1), x<=-1)\n",
    ")\n",
    "\n",
    "display(Latex(r\"We obtain the large expression\"))\n",
    "\n",
    "display(Latex(r\" $B(x) =$ \" + sp.latex(B, mode='inline')))"
   ]
  },
  {
   "cell_type": "markdown",
   "id": "9ba11a47-e890-4375-a3d7-0c021efa6dc8",
   "metadata": {},
   "source": [
    "# Diagonalizing B2"
   ]
  },
  {
   "cell_type": "markdown",
   "id": "72435ed0-d4df-4b27-8790-a9d5e1f09e83",
   "metadata": {},
   "source": [
    "Similarly we can solve for $B_2(x) = 1 + W(x) + W(x+1) - W(x)^2/B_2(x-1)$. The key difference is that we are computing a forward step $B_2(x+k)$ as a function of $B(x)$. The steps are taken at the right side of the plateau, where the weights are all $\\mu$."
   ]
  },
  {
   "cell_type": "code",
   "execution_count": 19,
   "id": "fe56bbd1-3cee-4672-81a4-7aa13170921a",
   "metadata": {
    "scrolled": true
   },
   "outputs": [
    {
     "data": {
      "text/latex": [
       "We then have the expression, starting from $B_2(1)$ for increasing indices"
      ],
      "text/plain": [
       "<IPython.core.display.Latex object>"
      ]
     },
     "metadata": {},
     "output_type": "display_data"
    },
    {
     "data": {
      "text/latex": [
       " $B_2(k+1) =$ $\\frac{B_{2}(1) \\left(- \\frac{\\left(μ - \\sqrt{4 μ + 1} / 2 + 1 / 2\\right) \\left(μ - \\sqrt{4 μ + 1} / 2 + 1 / 2\\right)^{k}}{\\sqrt{4 μ + 1}} + \\frac{\\left(μ + \\sqrt{4 μ + 1} / 2 + 1 / 2\\right) \\left(μ + \\sqrt{4 μ + 1} / 2 + 1 / 2\\right)^{k}}{\\sqrt{4 μ + 1}}\\right) + \\frac{\\left(- 2 μ + \\sqrt{4 μ + 1} - 1\\right) \\left(μ + \\sqrt{4 μ + 1} / 2 + 1 / 2\\right) \\left(μ + \\sqrt{4 μ + 1} / 2 + 1 / 2\\right)^{k}}{2 \\sqrt{4 μ + 1}} + \\frac{\\left(μ - \\sqrt{4 μ + 1} / 2 + 1 / 2\\right) \\left(μ - \\sqrt{4 μ + 1} / 2 + 1 / 2\\right)^{k} \\left(2 μ + \\sqrt{4 μ + 1} + 1\\right)}{2 \\sqrt{4 μ + 1}}}{B_{2}(1) \\left(- \\frac{\\left(μ - \\sqrt{4 μ + 1} / 2 + 1 / 2\\right)^{k}}{\\sqrt{4 μ + 1}} + \\frac{\\left(μ + \\sqrt{4 μ + 1} / 2 + 1 / 2\\right)^{k}}{\\sqrt{4 μ + 1}}\\right) + \\frac{\\left(- 2 μ + \\sqrt{4 μ + 1} - 1\\right) \\left(μ + \\sqrt{4 μ + 1} / 2 + 1 / 2\\right)^{k}}{2 \\sqrt{4 μ + 1}} + \\frac{\\left(μ - \\sqrt{4 μ + 1} / 2 + 1 / 2\\right)^{k} \\left(2 μ + \\sqrt{4 μ + 1} + 1\\right)}{2 \\sqrt{4 μ + 1}}}$"
      ],
      "text/plain": [
       "<IPython.core.display.Latex object>"
      ]
     },
     "metadata": {},
     "output_type": "display_data"
    }
   ],
   "source": [
    "bstart2 = sp.symbols('bs2')\n",
    "B2steps = Bsteps.replace(bstart,bstart2)\n",
    "\n",
    "display(Latex(r\"We then have the expression, starting from $B_2(1)$ for increasing indices\"))\n",
    "display(Latex(r\" $B_2(k+1) =$ \" + sp.latex(B2steps.subs(bstart2,sp.symbols(r'B_{2}(1)')).subs(λ,μ), mode='inline')))"
   ]
  },
  {
   "cell_type": "markdown",
   "id": "3176a516-7585-4774-8c13-c1d9183db21f",
   "metadata": {},
   "source": [
    "## B2 as a pure function"
   ]
  },
  {
   "cell_type": "markdown",
   "id": "473467fd-c6ca-413c-a955-448b414640e9",
   "metadata": {},
   "source": [
    "We write down the function $B_2(x)$ as a piecewise function. Notice that it is constant equal to $\\gamma(\\lambda)$ for $x\\leq-2$. Then\n",
    "\n",
    "\\begin{matrix}\n",
    "B_2(-2) & =  \\gamma(\\lambda)\\\\ \n",
    "B_2(-1) & =  1 + \\lambda + \\mu - \\frac{\\lambda^2}{B_2(-2)}\\\\\n",
    "B_2(0) & = 1 + 2\\mu - \\frac{\\mu^2}{B_2(-1)}\n",
    "\\\\\n",
    "B_2(1) & = 1 + 2\\mu - \\frac{\\mu^2}{B_2(0)}\n",
    "\\end{matrix}\n"
   ]
  },
  {
   "cell_type": "code",
   "execution_count": 33,
   "id": "f1e88d1f-8360-453c-949d-4ff1188da16a",
   "metadata": {},
   "outputs": [
    {
     "data": {
      "text/latex": [
       "So"
      ],
      "text/plain": [
       "<IPython.core.display.Latex object>"
      ]
     },
     "metadata": {},
     "output_type": "display_data"
    },
    {
     "data": {
      "text/latex": [
       " $B_2(x) =$ $\\begin{cases} λ + \\sqrt{4 λ + 1} / 2 + 1 / 2 & \\text{for}\\: x \\leq -2 \\\\- \\frac{λ^{2}}{λ + \\sqrt{4 λ + 1} / 2 + 1 / 2} + λ + μ + 1 & \\text{for}\\: x < 0 \\\\\\frac{\\left(- \\frac{\\left(μ - \\sqrt{4 μ + 1} / 2 + 1 / 2\\right) \\left(μ - \\sqrt{4 μ + 1} / 2 + 1 / 2\\right)^{x}}{\\sqrt{4 μ + 1}} + \\frac{\\left(μ + \\sqrt{4 μ + 1} / 2 + 1 / 2\\right) \\left(μ + \\sqrt{4 μ + 1} / 2 + 1 / 2\\right)^{x}}{\\sqrt{4 μ + 1}}\\right) \\left(- \\frac{μ^{2}}{- \\frac{μ^{2}}{μ + \\sqrt{4 μ + 1} / 2 + 1 / 2} + 2 μ + 1} + 2 μ + 1\\right) + \\frac{\\left(- 2 μ + \\sqrt{4 μ + 1} - 1\\right) \\left(μ + \\sqrt{4 μ + 1} / 2 + 1 / 2\\right) \\left(μ + \\sqrt{4 μ + 1} / 2 + 1 / 2\\right)^{x}}{2 \\sqrt{4 μ + 1}} + \\frac{\\left(μ - \\sqrt{4 μ + 1} / 2 + 1 / 2\\right) \\left(μ - \\sqrt{4 μ + 1} / 2 + 1 / 2\\right)^{x} \\left(2 μ + \\sqrt{4 μ + 1} + 1\\right)}{2 \\sqrt{4 μ + 1}}}{\\left(- \\frac{\\left(μ - \\sqrt{4 μ + 1} / 2 + 1 / 2\\right)^{x}}{\\sqrt{4 μ + 1}} + \\frac{\\left(μ + \\sqrt{4 μ + 1} / 2 + 1 / 2\\right)^{x}}{\\sqrt{4 μ + 1}}\\right) \\left(- \\frac{μ^{2}}{- \\frac{μ^{2}}{μ + \\sqrt{4 μ + 1} / 2 + 1 / 2} + 2 μ + 1} + 2 μ + 1\\right) + \\frac{\\left(- 2 μ + \\sqrt{4 μ + 1} - 1\\right) \\left(μ + \\sqrt{4 μ + 1} / 2 + 1 / 2\\right)^{x}}{2 \\sqrt{4 μ + 1}} + \\frac{\\left(μ - \\sqrt{4 μ + 1} / 2 + 1 / 2\\right)^{x} \\left(2 μ + \\sqrt{4 μ + 1} + 1\\right)}{2 \\sqrt{4 μ + 1}}} & \\text{otherwise} \\end{cases}$"
      ],
      "text/plain": [
       "<IPython.core.display.Latex object>"
      ]
     },
     "metadata": {},
     "output_type": "display_data"
    }
   ],
   "source": [
    "B2xm2 = γ\n",
    "B2xm1 = 1 + W.subs(x,-1)+ W.subs(x,0) - W.subs(x,-1)**2/B2xm2\n",
    "B2x0 =  1 + W.subs(x,0)+ W.subs(x,1) - W.subs(x,0)**2/B2xm1\n",
    "\n",
    "\n",
    "B2 = sp.Piecewise(\n",
    "    (B2xm2, x <= -2),\n",
    "    (B2xm1, (x < 0)&(x>-2)), #at x==-1\n",
    "    (B2steps.replace(k,x).replace(bstart2, B2x0).replace(λ,μ), x>=0)\n",
    ")\n",
    "\n",
    "display(Latex(r\"So\"))\n",
    "\n",
    "display(Latex(r\" $B_2(x) =$ \" + sp.latex(B2, mode='inline')))"
   ]
  },
  {
   "cell_type": "markdown",
   "id": "8863ae9a-2a11-46cd-82f6-c9e999a2efc7",
   "metadata": {},
   "source": [
    "# Squared normalization coefficients $a^2$ and Domain transform dt"
   ]
  },
  {
   "cell_type": "markdown",
   "id": "e5fa8869-af5d-4eef-a6b1-9e7af7fb41b0",
   "metadata": {},
   "source": [
    "We use that \n",
    "\n",
    "$ a(x)^2 = \\frac{1}{B(x) - \\frac{W(x)^2}{B_2(x-1)}}\\,.$\n",
    "\n",
    "and\n",
    "\n",
    "$ (t(x)-t(x-1)) = -\\log \\left( \\frac{-1 + \\sqrt{4 a(x-1)^2 a(x)^2W(x)^2+1}}{2 a(x-1)a(x)W(x)}\\right)$"
   ]
  },
  {
   "cell_type": "code",
   "execution_count": 29,
   "id": "3d784ab7-eafa-4fd8-8e50-9ce0703d6f4d",
   "metadata": {},
   "outputs": [],
   "source": [
    "asqr = 1/(B- W*W/(B2.replace(x,x-1)))"
   ]
  },
  {
   "cell_type": "markdown",
   "id": "8f8f419e-39e9-4750-86a6-3d9c0ac591eb",
   "metadata": {},
   "source": [
    "# Domain transform"
   ]
  },
  {
   "cell_type": "markdown",
   "id": "ae7ccad9-d9ba-4be6-8059-d410968b1bec",
   "metadata": {},
   "source": [
    "The domain transform is then given by"
   ]
  },
  {
   "cell_type": "code",
   "execution_count": 62,
   "id": "7e2efe4e-a638-4ac3-889f-1648487871f2",
   "metadata": {},
   "outputs": [
    {
     "data": {
      "text/latex": [
       "$\\displaystyle \\log{\\left(\\frac{2 \\sqrt{\\frac{1}{\\left(- \\left(\\begin{cases} λ^{2} & \\text{for}\\: x < 0 \\\\μ^{2} & \\text{otherwise} \\end{cases}\\right) \\left(\\begin{cases} \\frac{1}{λ + \\frac{\\sqrt{4 λ + 1}}{2} + \\frac{1}{2}} & \\text{for}\\: x \\leq -1 \\\\\\frac{1}{- \\frac{λ^{2}}{λ + \\frac{\\sqrt{4 λ + 1}}{2} + \\frac{1}{2}} + λ + μ + 1} & \\text{for}\\: x < 1 \\\\\\frac{\\left(- \\frac{\\left(μ - \\frac{\\sqrt{4 μ + 1}}{2} + \\frac{1}{2}\\right)^{x - 1}}{\\sqrt{4 μ + 1}} + \\frac{\\left(μ + \\frac{\\sqrt{4 μ + 1}}{2} + \\frac{1}{2}\\right)^{x - 1}}{\\sqrt{4 μ + 1}}\\right) \\left(- \\frac{μ^{2}}{- \\frac{μ^{2}}{μ + \\frac{\\sqrt{4 μ + 1}}{2} + \\frac{1}{2}} + 2 μ + 1} + 2 μ + 1\\right) + \\frac{\\left(- 2 μ + \\sqrt{4 μ + 1} - 1\\right) \\left(μ + \\frac{\\sqrt{4 μ + 1}}{2} + \\frac{1}{2}\\right)^{x - 1}}{2 \\sqrt{4 μ + 1}} + \\frac{\\left(μ - \\frac{\\sqrt{4 μ + 1}}{2} + \\frac{1}{2}\\right)^{x - 1} \\cdot \\left(2 μ + \\sqrt{4 μ + 1} + 1\\right)}{2 \\sqrt{4 μ + 1}}}{\\left(- \\frac{\\left(μ - \\frac{\\sqrt{4 μ + 1}}{2} + \\frac{1}{2}\\right) \\left(μ - \\frac{\\sqrt{4 μ + 1}}{2} + \\frac{1}{2}\\right)^{x - 1}}{\\sqrt{4 μ + 1}} + \\frac{\\left(μ + \\frac{\\sqrt{4 μ + 1}}{2} + \\frac{1}{2}\\right) \\left(μ + \\frac{\\sqrt{4 μ + 1}}{2} + \\frac{1}{2}\\right)^{x - 1}}{\\sqrt{4 μ + 1}}\\right) \\left(- \\frac{μ^{2}}{- \\frac{μ^{2}}{μ + \\frac{\\sqrt{4 μ + 1}}{2} + \\frac{1}{2}} + 2 μ + 1} + 2 μ + 1\\right) + \\frac{\\left(- 2 μ + \\sqrt{4 μ + 1} - 1\\right) \\left(μ + \\frac{\\sqrt{4 μ + 1}}{2} + \\frac{1}{2}\\right) \\left(μ + \\frac{\\sqrt{4 μ + 1}}{2} + \\frac{1}{2}\\right)^{x - 1}}{2 \\sqrt{4 μ + 1}} + \\frac{\\left(μ - \\frac{\\sqrt{4 μ + 1}}{2} + \\frac{1}{2}\\right) \\left(μ - \\frac{\\sqrt{4 μ + 1}}{2} + \\frac{1}{2}\\right)^{x - 1} \\cdot \\left(2 μ + \\sqrt{4 μ + 1} + 1\\right)}{2 \\sqrt{4 μ + 1}}} & \\text{otherwise} \\end{cases}\\right) + \\begin{cases} μ + \\frac{\\sqrt{4 μ + 1}}{2} + \\frac{1}{2} & \\text{for}\\: x \\geq 0 \\\\\\frac{\\left(- \\frac{\\left(λ - \\frac{\\sqrt{4 λ + 1}}{2} + \\frac{1}{2}\\right) \\left(λ - \\frac{\\sqrt{4 λ + 1}}{2} + \\frac{1}{2}\\right)^{- x - 1}}{\\sqrt{4 λ + 1}} + \\frac{\\left(λ + \\frac{\\sqrt{4 λ + 1}}{2} + \\frac{1}{2}\\right) \\left(λ + \\frac{\\sqrt{4 λ + 1}}{2} + \\frac{1}{2}\\right)^{- x - 1}}{\\sqrt{4 λ + 1}}\\right) \\left(λ - \\frac{μ^{2}}{μ + \\frac{\\sqrt{4 μ + 1}}{2} + \\frac{1}{2}} + μ + 1\\right) + \\frac{\\left(- 2 λ + \\sqrt{4 λ + 1} - 1\\right) \\left(λ + \\frac{\\sqrt{4 λ + 1}}{2} + \\frac{1}{2}\\right) \\left(λ + \\frac{\\sqrt{4 λ + 1}}{2} + \\frac{1}{2}\\right)^{- x - 1}}{2 \\sqrt{4 λ + 1}} + \\frac{\\left(λ - \\frac{\\sqrt{4 λ + 1}}{2} + \\frac{1}{2}\\right) \\left(λ - \\frac{\\sqrt{4 λ + 1}}{2} + \\frac{1}{2}\\right)^{- x - 1} \\cdot \\left(2 λ + \\sqrt{4 λ + 1} + 1\\right)}{2 \\sqrt{4 λ + 1}}}{\\left(- \\frac{\\left(λ - \\frac{\\sqrt{4 λ + 1}}{2} + \\frac{1}{2}\\right)^{- x - 1}}{\\sqrt{4 λ + 1}} + \\frac{\\left(λ + \\frac{\\sqrt{4 λ + 1}}{2} + \\frac{1}{2}\\right)^{- x - 1}}{\\sqrt{4 λ + 1}}\\right) \\left(λ - \\frac{μ^{2}}{μ + \\frac{\\sqrt{4 μ + 1}}{2} + \\frac{1}{2}} + μ + 1\\right) + \\frac{\\left(- 2 λ + \\sqrt{4 λ + 1} - 1\\right) \\left(λ + \\frac{\\sqrt{4 λ + 1}}{2} + \\frac{1}{2}\\right)^{- x - 1}}{2 \\sqrt{4 λ + 1}} + \\frac{\\left(λ - \\frac{\\sqrt{4 λ + 1}}{2} + \\frac{1}{2}\\right)^{- x - 1} \\cdot \\left(2 λ + \\sqrt{4 λ + 1} + 1\\right)}{2 \\sqrt{4 λ + 1}}} & \\text{for}\\: x \\leq -1 \\end{cases}\\right) \\left(- \\left(\\begin{cases} λ^{2} & \\text{for}\\: x < 1 \\\\μ^{2} & \\text{otherwise} \\end{cases}\\right) \\left(\\begin{cases} \\frac{1}{λ + \\frac{\\sqrt{4 λ + 1}}{2} + \\frac{1}{2}} & \\text{for}\\: x \\leq 0 \\\\\\frac{1}{- \\frac{λ^{2}}{λ + \\frac{\\sqrt{4 λ + 1}}{2} + \\frac{1}{2}} + λ + μ + 1} & \\text{for}\\: x < 2 \\\\\\frac{\\left(- \\frac{\\left(μ - \\frac{\\sqrt{4 μ + 1}}{2} + \\frac{1}{2}\\right)^{x - 2}}{\\sqrt{4 μ + 1}} + \\frac{\\left(μ + \\frac{\\sqrt{4 μ + 1}}{2} + \\frac{1}{2}\\right)^{x - 2}}{\\sqrt{4 μ + 1}}\\right) \\left(- \\frac{μ^{2}}{- \\frac{μ^{2}}{μ + \\frac{\\sqrt{4 μ + 1}}{2} + \\frac{1}{2}} + 2 μ + 1} + 2 μ + 1\\right) + \\frac{\\left(- 2 μ + \\sqrt{4 μ + 1} - 1\\right) \\left(μ + \\frac{\\sqrt{4 μ + 1}}{2} + \\frac{1}{2}\\right)^{x - 2}}{2 \\sqrt{4 μ + 1}} + \\frac{\\left(μ - \\frac{\\sqrt{4 μ + 1}}{2} + \\frac{1}{2}\\right)^{x - 2} \\cdot \\left(2 μ + \\sqrt{4 μ + 1} + 1\\right)}{2 \\sqrt{4 μ + 1}}}{\\left(- \\frac{\\left(μ - \\frac{\\sqrt{4 μ + 1}}{2} + \\frac{1}{2}\\right) \\left(μ - \\frac{\\sqrt{4 μ + 1}}{2} + \\frac{1}{2}\\right)^{x - 2}}{\\sqrt{4 μ + 1}} + \\frac{\\left(μ + \\frac{\\sqrt{4 μ + 1}}{2} + \\frac{1}{2}\\right) \\left(μ + \\frac{\\sqrt{4 μ + 1}}{2} + \\frac{1}{2}\\right)^{x - 2}}{\\sqrt{4 μ + 1}}\\right) \\left(- \\frac{μ^{2}}{- \\frac{μ^{2}}{μ + \\frac{\\sqrt{4 μ + 1}}{2} + \\frac{1}{2}} + 2 μ + 1} + 2 μ + 1\\right) + \\frac{\\left(- 2 μ + \\sqrt{4 μ + 1} - 1\\right) \\left(μ + \\frac{\\sqrt{4 μ + 1}}{2} + \\frac{1}{2}\\right) \\left(μ + \\frac{\\sqrt{4 μ + 1}}{2} + \\frac{1}{2}\\right)^{x - 2}}{2 \\sqrt{4 μ + 1}} + \\frac{\\left(μ - \\frac{\\sqrt{4 μ + 1}}{2} + \\frac{1}{2}\\right) \\left(μ - \\frac{\\sqrt{4 μ + 1}}{2} + \\frac{1}{2}\\right)^{x - 2} \\cdot \\left(2 μ + \\sqrt{4 μ + 1} + 1\\right)}{2 \\sqrt{4 μ + 1}}} & \\text{otherwise} \\end{cases}\\right) + \\begin{cases} μ + \\frac{\\sqrt{4 μ + 1}}{2} + \\frac{1}{2} & \\text{for}\\: x \\geq 1 \\\\\\frac{\\left(- \\frac{\\left(λ - \\frac{\\sqrt{4 λ + 1}}{2} + \\frac{1}{2}\\right) \\left(λ - \\frac{\\sqrt{4 λ + 1}}{2} + \\frac{1}{2}\\right)^{- x}}{\\sqrt{4 λ + 1}} + \\frac{\\left(λ + \\frac{\\sqrt{4 λ + 1}}{2} + \\frac{1}{2}\\right) \\left(λ + \\frac{\\sqrt{4 λ + 1}}{2} + \\frac{1}{2}\\right)^{- x}}{\\sqrt{4 λ + 1}}\\right) \\left(λ - \\frac{μ^{2}}{μ + \\frac{\\sqrt{4 μ + 1}}{2} + \\frac{1}{2}} + μ + 1\\right) + \\frac{\\left(- 2 λ + \\sqrt{4 λ + 1} - 1\\right) \\left(λ + \\frac{\\sqrt{4 λ + 1}}{2} + \\frac{1}{2}\\right) \\left(λ + \\frac{\\sqrt{4 λ + 1}}{2} + \\frac{1}{2}\\right)^{- x}}{2 \\sqrt{4 λ + 1}} + \\frac{\\left(λ - \\frac{\\sqrt{4 λ + 1}}{2} + \\frac{1}{2}\\right) \\left(λ - \\frac{\\sqrt{4 λ + 1}}{2} + \\frac{1}{2}\\right)^{- x} \\left(2 λ + \\sqrt{4 λ + 1} + 1\\right)}{2 \\sqrt{4 λ + 1}}}{\\left(\\frac{\\left(λ + \\frac{\\sqrt{4 λ + 1}}{2} + \\frac{1}{2}\\right)^{- x}}{\\sqrt{4 λ + 1}} - \\frac{\\left(λ - \\frac{\\sqrt{4 λ + 1}}{2} + \\frac{1}{2}\\right)^{- x}}{\\sqrt{4 λ + 1}}\\right) \\left(λ - \\frac{μ^{2}}{μ + \\frac{\\sqrt{4 μ + 1}}{2} + \\frac{1}{2}} + μ + 1\\right) + \\frac{\\left(- 2 λ + \\sqrt{4 λ + 1} - 1\\right) \\left(λ + \\frac{\\sqrt{4 λ + 1}}{2} + \\frac{1}{2}\\right)^{- x}}{2 \\sqrt{4 λ + 1}} + \\frac{\\left(λ - \\frac{\\sqrt{4 λ + 1}}{2} + \\frac{1}{2}\\right)^{- x} \\left(2 λ + \\sqrt{4 λ + 1} + 1\\right)}{2 \\sqrt{4 λ + 1}}} & \\text{for}\\: x \\leq 0 \\end{cases}\\right)}} \\left(\\begin{cases} λ & \\text{for}\\: x < 0 \\\\μ & \\text{otherwise} \\end{cases}\\right)}{\\sqrt{1 + \\frac{4 \\left(\\begin{cases} λ^{2} & \\text{for}\\: x < 0 \\\\μ^{2} & \\text{otherwise} \\end{cases}\\right)}{\\left(- \\left(\\begin{cases} λ^{2} & \\text{for}\\: x < 0 \\\\μ^{2} & \\text{otherwise} \\end{cases}\\right) \\left(\\begin{cases} \\frac{1}{λ + \\frac{\\sqrt{4 λ + 1}}{2} + \\frac{1}{2}} & \\text{for}\\: x \\leq -1 \\\\\\frac{1}{- \\frac{λ^{2}}{λ + \\frac{\\sqrt{4 λ + 1}}{2} + \\frac{1}{2}} + λ + μ + 1} & \\text{for}\\: x < 1 \\\\\\frac{\\left(- \\frac{\\left(μ - \\frac{\\sqrt{4 μ + 1}}{2} + \\frac{1}{2}\\right)^{x - 1}}{\\sqrt{4 μ + 1}} + \\frac{\\left(μ + \\frac{\\sqrt{4 μ + 1}}{2} + \\frac{1}{2}\\right)^{x - 1}}{\\sqrt{4 μ + 1}}\\right) \\left(- \\frac{μ^{2}}{- \\frac{μ^{2}}{μ + \\frac{\\sqrt{4 μ + 1}}{2} + \\frac{1}{2}} + 2 μ + 1} + 2 μ + 1\\right) + \\frac{\\left(- 2 μ + \\sqrt{4 μ + 1} - 1\\right) \\left(μ + \\frac{\\sqrt{4 μ + 1}}{2} + \\frac{1}{2}\\right)^{x - 1}}{2 \\sqrt{4 μ + 1}} + \\frac{\\left(μ - \\frac{\\sqrt{4 μ + 1}}{2} + \\frac{1}{2}\\right)^{x - 1} \\cdot \\left(2 μ + \\sqrt{4 μ + 1} + 1\\right)}{2 \\sqrt{4 μ + 1}}}{\\left(- \\frac{\\left(μ - \\frac{\\sqrt{4 μ + 1}}{2} + \\frac{1}{2}\\right) \\left(μ - \\frac{\\sqrt{4 μ + 1}}{2} + \\frac{1}{2}\\right)^{x - 1}}{\\sqrt{4 μ + 1}} + \\frac{\\left(μ + \\frac{\\sqrt{4 μ + 1}}{2} + \\frac{1}{2}\\right) \\left(μ + \\frac{\\sqrt{4 μ + 1}}{2} + \\frac{1}{2}\\right)^{x - 1}}{\\sqrt{4 μ + 1}}\\right) \\left(- \\frac{μ^{2}}{- \\frac{μ^{2}}{μ + \\frac{\\sqrt{4 μ + 1}}{2} + \\frac{1}{2}} + 2 μ + 1} + 2 μ + 1\\right) + \\frac{\\left(- 2 μ + \\sqrt{4 μ + 1} - 1\\right) \\left(μ + \\frac{\\sqrt{4 μ + 1}}{2} + \\frac{1}{2}\\right) \\left(μ + \\frac{\\sqrt{4 μ + 1}}{2} + \\frac{1}{2}\\right)^{x - 1}}{2 \\sqrt{4 μ + 1}} + \\frac{\\left(μ - \\frac{\\sqrt{4 μ + 1}}{2} + \\frac{1}{2}\\right) \\left(μ - \\frac{\\sqrt{4 μ + 1}}{2} + \\frac{1}{2}\\right)^{x - 1} \\cdot \\left(2 μ + \\sqrt{4 μ + 1} + 1\\right)}{2 \\sqrt{4 μ + 1}}} & \\text{otherwise} \\end{cases}\\right) + \\begin{cases} μ + \\frac{\\sqrt{4 μ + 1}}{2} + \\frac{1}{2} & \\text{for}\\: x \\geq 0 \\\\\\frac{\\left(- \\frac{\\left(λ - \\frac{\\sqrt{4 λ + 1}}{2} + \\frac{1}{2}\\right) \\left(λ - \\frac{\\sqrt{4 λ + 1}}{2} + \\frac{1}{2}\\right)^{- x - 1}}{\\sqrt{4 λ + 1}} + \\frac{\\left(λ + \\frac{\\sqrt{4 λ + 1}}{2} + \\frac{1}{2}\\right) \\left(λ + \\frac{\\sqrt{4 λ + 1}}{2} + \\frac{1}{2}\\right)^{- x - 1}}{\\sqrt{4 λ + 1}}\\right) \\left(λ - \\frac{μ^{2}}{μ + \\frac{\\sqrt{4 μ + 1}}{2} + \\frac{1}{2}} + μ + 1\\right) + \\frac{\\left(- 2 λ + \\sqrt{4 λ + 1} - 1\\right) \\left(λ + \\frac{\\sqrt{4 λ + 1}}{2} + \\frac{1}{2}\\right) \\left(λ + \\frac{\\sqrt{4 λ + 1}}{2} + \\frac{1}{2}\\right)^{- x - 1}}{2 \\sqrt{4 λ + 1}} + \\frac{\\left(λ - \\frac{\\sqrt{4 λ + 1}}{2} + \\frac{1}{2}\\right) \\left(λ - \\frac{\\sqrt{4 λ + 1}}{2} + \\frac{1}{2}\\right)^{- x - 1} \\cdot \\left(2 λ + \\sqrt{4 λ + 1} + 1\\right)}{2 \\sqrt{4 λ + 1}}}{\\left(- \\frac{\\left(λ - \\frac{\\sqrt{4 λ + 1}}{2} + \\frac{1}{2}\\right)^{- x - 1}}{\\sqrt{4 λ + 1}} + \\frac{\\left(λ + \\frac{\\sqrt{4 λ + 1}}{2} + \\frac{1}{2}\\right)^{- x - 1}}{\\sqrt{4 λ + 1}}\\right) \\left(λ - \\frac{μ^{2}}{μ + \\frac{\\sqrt{4 μ + 1}}{2} + \\frac{1}{2}} + μ + 1\\right) + \\frac{\\left(- 2 λ + \\sqrt{4 λ + 1} - 1\\right) \\left(λ + \\frac{\\sqrt{4 λ + 1}}{2} + \\frac{1}{2}\\right)^{- x - 1}}{2 \\sqrt{4 λ + 1}} + \\frac{\\left(λ - \\frac{\\sqrt{4 λ + 1}}{2} + \\frac{1}{2}\\right)^{- x - 1} \\cdot \\left(2 λ + \\sqrt{4 λ + 1} + 1\\right)}{2 \\sqrt{4 λ + 1}}} & \\text{for}\\: x \\leq -1 \\end{cases}\\right) \\left(- \\left(\\begin{cases} λ^{2} & \\text{for}\\: x < 1 \\\\μ^{2} & \\text{otherwise} \\end{cases}\\right) \\left(\\begin{cases} \\frac{1}{λ + \\frac{\\sqrt{4 λ + 1}}{2} + \\frac{1}{2}} & \\text{for}\\: x \\leq 0 \\\\\\frac{1}{- \\frac{λ^{2}}{λ + \\frac{\\sqrt{4 λ + 1}}{2} + \\frac{1}{2}} + λ + μ + 1} & \\text{for}\\: x < 2 \\\\\\frac{\\left(- \\frac{\\left(μ - \\frac{\\sqrt{4 μ + 1}}{2} + \\frac{1}{2}\\right)^{x - 2}}{\\sqrt{4 μ + 1}} + \\frac{\\left(μ + \\frac{\\sqrt{4 μ + 1}}{2} + \\frac{1}{2}\\right)^{x - 2}}{\\sqrt{4 μ + 1}}\\right) \\left(- \\frac{μ^{2}}{- \\frac{μ^{2}}{μ + \\frac{\\sqrt{4 μ + 1}}{2} + \\frac{1}{2}} + 2 μ + 1} + 2 μ + 1\\right) + \\frac{\\left(- 2 μ + \\sqrt{4 μ + 1} - 1\\right) \\left(μ + \\frac{\\sqrt{4 μ + 1}}{2} + \\frac{1}{2}\\right)^{x - 2}}{2 \\sqrt{4 μ + 1}} + \\frac{\\left(μ - \\frac{\\sqrt{4 μ + 1}}{2} + \\frac{1}{2}\\right)^{x - 2} \\cdot \\left(2 μ + \\sqrt{4 μ + 1} + 1\\right)}{2 \\sqrt{4 μ + 1}}}{\\left(- \\frac{\\left(μ - \\frac{\\sqrt{4 μ + 1}}{2} + \\frac{1}{2}\\right) \\left(μ - \\frac{\\sqrt{4 μ + 1}}{2} + \\frac{1}{2}\\right)^{x - 2}}{\\sqrt{4 μ + 1}} + \\frac{\\left(μ + \\frac{\\sqrt{4 μ + 1}}{2} + \\frac{1}{2}\\right) \\left(μ + \\frac{\\sqrt{4 μ + 1}}{2} + \\frac{1}{2}\\right)^{x - 2}}{\\sqrt{4 μ + 1}}\\right) \\left(- \\frac{μ^{2}}{- \\frac{μ^{2}}{μ + \\frac{\\sqrt{4 μ + 1}}{2} + \\frac{1}{2}} + 2 μ + 1} + 2 μ + 1\\right) + \\frac{\\left(- 2 μ + \\sqrt{4 μ + 1} - 1\\right) \\left(μ + \\frac{\\sqrt{4 μ + 1}}{2} + \\frac{1}{2}\\right) \\left(μ + \\frac{\\sqrt{4 μ + 1}}{2} + \\frac{1}{2}\\right)^{x - 2}}{2 \\sqrt{4 μ + 1}} + \\frac{\\left(μ - \\frac{\\sqrt{4 μ + 1}}{2} + \\frac{1}{2}\\right) \\left(μ - \\frac{\\sqrt{4 μ + 1}}{2} + \\frac{1}{2}\\right)^{x - 2} \\cdot \\left(2 μ + \\sqrt{4 μ + 1} + 1\\right)}{2 \\sqrt{4 μ + 1}}} & \\text{otherwise} \\end{cases}\\right) + \\begin{cases} μ + \\frac{\\sqrt{4 μ + 1}}{2} + \\frac{1}{2} & \\text{for}\\: x \\geq 1 \\\\\\frac{\\left(- \\frac{\\left(λ - \\frac{\\sqrt{4 λ + 1}}{2} + \\frac{1}{2}\\right) \\left(λ - \\frac{\\sqrt{4 λ + 1}}{2} + \\frac{1}{2}\\right)^{- x}}{\\sqrt{4 λ + 1}} + \\frac{\\left(λ + \\frac{\\sqrt{4 λ + 1}}{2} + \\frac{1}{2}\\right) \\left(λ + \\frac{\\sqrt{4 λ + 1}}{2} + \\frac{1}{2}\\right)^{- x}}{\\sqrt{4 λ + 1}}\\right) \\left(λ - \\frac{μ^{2}}{μ + \\frac{\\sqrt{4 μ + 1}}{2} + \\frac{1}{2}} + μ + 1\\right) + \\frac{\\left(- 2 λ + \\sqrt{4 λ + 1} - 1\\right) \\left(λ + \\frac{\\sqrt{4 λ + 1}}{2} + \\frac{1}{2}\\right) \\left(λ + \\frac{\\sqrt{4 λ + 1}}{2} + \\frac{1}{2}\\right)^{- x}}{2 \\sqrt{4 λ + 1}} + \\frac{\\left(λ - \\frac{\\sqrt{4 λ + 1}}{2} + \\frac{1}{2}\\right) \\left(λ - \\frac{\\sqrt{4 λ + 1}}{2} + \\frac{1}{2}\\right)^{- x} \\left(2 λ + \\sqrt{4 λ + 1} + 1\\right)}{2 \\sqrt{4 λ + 1}}}{\\left(\\frac{\\left(λ + \\frac{\\sqrt{4 λ + 1}}{2} + \\frac{1}{2}\\right)^{- x}}{\\sqrt{4 λ + 1}} - \\frac{\\left(λ - \\frac{\\sqrt{4 λ + 1}}{2} + \\frac{1}{2}\\right)^{- x}}{\\sqrt{4 λ + 1}}\\right) \\left(λ - \\frac{μ^{2}}{μ + \\frac{\\sqrt{4 μ + 1}}{2} + \\frac{1}{2}} + μ + 1\\right) + \\frac{\\left(- 2 λ + \\sqrt{4 λ + 1} - 1\\right) \\left(λ + \\frac{\\sqrt{4 λ + 1}}{2} + \\frac{1}{2}\\right)^{- x}}{2 \\sqrt{4 λ + 1}} + \\frac{\\left(λ - \\frac{\\sqrt{4 λ + 1}}{2} + \\frac{1}{2}\\right)^{- x} \\left(2 λ + \\sqrt{4 λ + 1} + 1\\right)}{2 \\sqrt{4 λ + 1}}} & \\text{for}\\: x \\leq 0 \\end{cases}\\right)}} - 1} \\right)}$"
      ],
      "text/plain": [
       "log(2*sqrt(1/((-Piecewise((λ**2, x < 0), (μ**2, True))*Piecewise((1/(λ + sqrt(4*λ + 1)/2 + 1/2), x <= -1), (1/(-λ**2/(λ + sqrt(4*λ + 1)/2 + 1/2) + λ + μ + 1), x < 1), (((-(μ - sqrt(4*μ + 1)/2 + 1/2)**(x - 1)/sqrt(4*μ + 1) + (μ + sqrt(4*μ + 1)/2 + 1/2)**(x - 1)/sqrt(4*μ + 1))*(-μ**2/(-μ**2/(μ + sqrt(4*μ + 1)/2 + 1/2) + 2*μ + 1) + 2*μ + 1) + (-2*μ + sqrt(4*μ + 1) - 1)*(μ + sqrt(4*μ + 1)/2 + 1/2)**(x - 1)/(2*sqrt(4*μ + 1)) + (μ - sqrt(4*μ + 1)/2 + 1/2)**(x - 1)*(2*μ + sqrt(4*μ + 1) + 1)/(2*sqrt(4*μ + 1)))/((-(μ - sqrt(4*μ + 1)/2 + 1/2)*(μ - sqrt(4*μ + 1)/2 + 1/2)**(x - 1)/sqrt(4*μ + 1) + (μ + sqrt(4*μ + 1)/2 + 1/2)*(μ + sqrt(4*μ + 1)/2 + 1/2)**(x - 1)/sqrt(4*μ + 1))*(-μ**2/(-μ**2/(μ + sqrt(4*μ + 1)/2 + 1/2) + 2*μ + 1) + 2*μ + 1) + (-2*μ + sqrt(4*μ + 1) - 1)*(μ + sqrt(4*μ + 1)/2 + 1/2)*(μ + sqrt(4*μ + 1)/2 + 1/2)**(x - 1)/(2*sqrt(4*μ + 1)) + (μ - sqrt(4*μ + 1)/2 + 1/2)*(μ - sqrt(4*μ + 1)/2 + 1/2)**(x - 1)*(2*μ + sqrt(4*μ + 1) + 1)/(2*sqrt(4*μ + 1))), True)) + Piecewise((μ + sqrt(4*μ + 1)/2 + 1/2, x >= 0), (((-(λ - sqrt(4*λ + 1)/2 + 1/2)*(λ - sqrt(4*λ + 1)/2 + 1/2)**(-x - 1)/sqrt(4*λ + 1) + (λ + sqrt(4*λ + 1)/2 + 1/2)*(λ + sqrt(4*λ + 1)/2 + 1/2)**(-x - 1)/sqrt(4*λ + 1))*(λ - μ**2/(μ + sqrt(4*μ + 1)/2 + 1/2) + μ + 1) + (-2*λ + sqrt(4*λ + 1) - 1)*(λ + sqrt(4*λ + 1)/2 + 1/2)*(λ + sqrt(4*λ + 1)/2 + 1/2)**(-x - 1)/(2*sqrt(4*λ + 1)) + (λ - sqrt(4*λ + 1)/2 + 1/2)*(λ - sqrt(4*λ + 1)/2 + 1/2)**(-x - 1)*(2*λ + sqrt(4*λ + 1) + 1)/(2*sqrt(4*λ + 1)))/((-(λ - sqrt(4*λ + 1)/2 + 1/2)**(-x - 1)/sqrt(4*λ + 1) + (λ + sqrt(4*λ + 1)/2 + 1/2)**(-x - 1)/sqrt(4*λ + 1))*(λ - μ**2/(μ + sqrt(4*μ + 1)/2 + 1/2) + μ + 1) + (-2*λ + sqrt(4*λ + 1) - 1)*(λ + sqrt(4*λ + 1)/2 + 1/2)**(-x - 1)/(2*sqrt(4*λ + 1)) + (λ - sqrt(4*λ + 1)/2 + 1/2)**(-x - 1)*(2*λ + sqrt(4*λ + 1) + 1)/(2*sqrt(4*λ + 1))), x <= -1)))*(-Piecewise((λ**2, x < 1), (μ**2, True))*Piecewise((1/(λ + sqrt(4*λ + 1)/2 + 1/2), x <= 0), (1/(-λ**2/(λ + sqrt(4*λ + 1)/2 + 1/2) + λ + μ + 1), x < 2), (((-(μ - sqrt(4*μ + 1)/2 + 1/2)**(x - 2)/sqrt(4*μ + 1) + (μ + sqrt(4*μ + 1)/2 + 1/2)**(x - 2)/sqrt(4*μ + 1))*(-μ**2/(-μ**2/(μ + sqrt(4*μ + 1)/2 + 1/2) + 2*μ + 1) + 2*μ + 1) + (-2*μ + sqrt(4*μ + 1) - 1)*(μ + sqrt(4*μ + 1)/2 + 1/2)**(x - 2)/(2*sqrt(4*μ + 1)) + (μ - sqrt(4*μ + 1)/2 + 1/2)**(x - 2)*(2*μ + sqrt(4*μ + 1) + 1)/(2*sqrt(4*μ + 1)))/((-(μ - sqrt(4*μ + 1)/2 + 1/2)*(μ - sqrt(4*μ + 1)/2 + 1/2)**(x - 2)/sqrt(4*μ + 1) + (μ + sqrt(4*μ + 1)/2 + 1/2)*(μ + sqrt(4*μ + 1)/2 + 1/2)**(x - 2)/sqrt(4*μ + 1))*(-μ**2/(-μ**2/(μ + sqrt(4*μ + 1)/2 + 1/2) + 2*μ + 1) + 2*μ + 1) + (-2*μ + sqrt(4*μ + 1) - 1)*(μ + sqrt(4*μ + 1)/2 + 1/2)*(μ + sqrt(4*μ + 1)/2 + 1/2)**(x - 2)/(2*sqrt(4*μ + 1)) + (μ - sqrt(4*μ + 1)/2 + 1/2)*(μ - sqrt(4*μ + 1)/2 + 1/2)**(x - 2)*(2*μ + sqrt(4*μ + 1) + 1)/(2*sqrt(4*μ + 1))), True)) + Piecewise((μ + sqrt(4*μ + 1)/2 + 1/2, x >= 1), (((-(λ - sqrt(4*λ + 1)/2 + 1/2)/(sqrt(4*λ + 1)*(λ - sqrt(4*λ + 1)/2 + 1/2)**x) + (λ + sqrt(4*λ + 1)/2 + 1/2)/(sqrt(4*λ + 1)*(λ + sqrt(4*λ + 1)/2 + 1/2)**x))*(λ - μ**2/(μ + sqrt(4*μ + 1)/2 + 1/2) + μ + 1) + (-2*λ + sqrt(4*λ + 1) - 1)*(λ + sqrt(4*λ + 1)/2 + 1/2)/(2*sqrt(4*λ + 1)*(λ + sqrt(4*λ + 1)/2 + 1/2)**x) + (λ - sqrt(4*λ + 1)/2 + 1/2)*(2*λ + sqrt(4*λ + 1) + 1)/(2*sqrt(4*λ + 1)*(λ - sqrt(4*λ + 1)/2 + 1/2)**x))/((1/(sqrt(4*λ + 1)*(λ + sqrt(4*λ + 1)/2 + 1/2)**x) - 1/(sqrt(4*λ + 1)*(λ - sqrt(4*λ + 1)/2 + 1/2)**x))*(λ - μ**2/(μ + sqrt(4*μ + 1)/2 + 1/2) + μ + 1) + (-2*λ + sqrt(4*λ + 1) - 1)/(2*sqrt(4*λ + 1)*(λ + sqrt(4*λ + 1)/2 + 1/2)**x) + (2*λ + sqrt(4*λ + 1) + 1)/(2*sqrt(4*λ + 1)*(λ - sqrt(4*λ + 1)/2 + 1/2)**x)), x <= 0)))))*Piecewise((λ, x < 0), (μ, True))/(sqrt(1 + 4*Piecewise((λ**2, x < 0), (μ**2, True))/((-Piecewise((λ**2, x < 0), (μ**2, True))*Piecewise((1/(λ + sqrt(4*λ + 1)/2 + 1/2), x <= -1), (1/(-λ**2/(λ + sqrt(4*λ + 1)/2 + 1/2) + λ + μ + 1), x < 1), (((-(μ - sqrt(4*μ + 1)/2 + 1/2)**(x - 1)/sqrt(4*μ + 1) + (μ + sqrt(4*μ + 1)/2 + 1/2)**(x - 1)/sqrt(4*μ + 1))*(-μ**2/(-μ**2/(μ + sqrt(4*μ + 1)/2 + 1/2) + 2*μ + 1) + 2*μ + 1) + (-2*μ + sqrt(4*μ + 1) - 1)*(μ + sqrt(4*μ + 1)/2 + 1/2)**(x - 1)/(2*sqrt(4*μ + 1)) + (μ - sqrt(4*μ + 1)/2 + 1/2)**(x - 1)*(2*μ + sqrt(4*μ + 1) + 1)/(2*sqrt(4*μ + 1)))/((-(μ - sqrt(4*μ + 1)/2 + 1/2)*(μ - sqrt(4*μ + 1)/2 + 1/2)**(x - 1)/sqrt(4*μ + 1) + (μ + sqrt(4*μ + 1)/2 + 1/2)*(μ + sqrt(4*μ + 1)/2 + 1/2)**(x - 1)/sqrt(4*μ + 1))*(-μ**2/(-μ**2/(μ + sqrt(4*μ + 1)/2 + 1/2) + 2*μ + 1) + 2*μ + 1) + (-2*μ + sqrt(4*μ + 1) - 1)*(μ + sqrt(4*μ + 1)/2 + 1/2)*(μ + sqrt(4*μ + 1)/2 + 1/2)**(x - 1)/(2*sqrt(4*μ + 1)) + (μ - sqrt(4*μ + 1)/2 + 1/2)*(μ - sqrt(4*μ + 1)/2 + 1/2)**(x - 1)*(2*μ + sqrt(4*μ + 1) + 1)/(2*sqrt(4*μ + 1))), True)) + Piecewise((μ + sqrt(4*μ + 1)/2 + 1/2, x >= 0), (((-(λ - sqrt(4*λ + 1)/2 + 1/2)*(λ - sqrt(4*λ + 1)/2 + 1/2)**(-x - 1)/sqrt(4*λ + 1) + (λ + sqrt(4*λ + 1)/2 + 1/2)*(λ + sqrt(4*λ + 1)/2 + 1/2)**(-x - 1)/sqrt(4*λ + 1))*(λ - μ**2/(μ + sqrt(4*μ + 1)/2 + 1/2) + μ + 1) + (-2*λ + sqrt(4*λ + 1) - 1)*(λ + sqrt(4*λ + 1)/2 + 1/2)*(λ + sqrt(4*λ + 1)/2 + 1/2)**(-x - 1)/(2*sqrt(4*λ + 1)) + (λ - sqrt(4*λ + 1)/2 + 1/2)*(λ - sqrt(4*λ + 1)/2 + 1/2)**(-x - 1)*(2*λ + sqrt(4*λ + 1) + 1)/(2*sqrt(4*λ + 1)))/((-(λ - sqrt(4*λ + 1)/2 + 1/2)**(-x - 1)/sqrt(4*λ + 1) + (λ + sqrt(4*λ + 1)/2 + 1/2)**(-x - 1)/sqrt(4*λ + 1))*(λ - μ**2/(μ + sqrt(4*μ + 1)/2 + 1/2) + μ + 1) + (-2*λ + sqrt(4*λ + 1) - 1)*(λ + sqrt(4*λ + 1)/2 + 1/2)**(-x - 1)/(2*sqrt(4*λ + 1)) + (λ - sqrt(4*λ + 1)/2 + 1/2)**(-x - 1)*(2*λ + sqrt(4*λ + 1) + 1)/(2*sqrt(4*λ + 1))), x <= -1)))*(-Piecewise((λ**2, x < 1), (μ**2, True))*Piecewise((1/(λ + sqrt(4*λ + 1)/2 + 1/2), x <= 0), (1/(-λ**2/(λ + sqrt(4*λ + 1)/2 + 1/2) + λ + μ + 1), x < 2), (((-(μ - sqrt(4*μ + 1)/2 + 1/2)**(x - 2)/sqrt(4*μ + 1) + (μ + sqrt(4*μ + 1)/2 + 1/2)**(x - 2)/sqrt(4*μ + 1))*(-μ**2/(-μ**2/(μ + sqrt(4*μ + 1)/2 + 1/2) + 2*μ + 1) + 2*μ + 1) + (-2*μ + sqrt(4*μ + 1) - 1)*(μ + sqrt(4*μ + 1)/2 + 1/2)**(x - 2)/(2*sqrt(4*μ + 1)) + (μ - sqrt(4*μ + 1)/2 + 1/2)**(x - 2)*(2*μ + sqrt(4*μ + 1) + 1)/(2*sqrt(4*μ + 1)))/((-(μ - sqrt(4*μ + 1)/2 + 1/2)*(μ - sqrt(4*μ + 1)/2 + 1/2)**(x - 2)/sqrt(4*μ + 1) + (μ + sqrt(4*μ + 1)/2 + 1/2)*(μ + sqrt(4*μ + 1)/2 + 1/2)**(x - 2)/sqrt(4*μ + 1))*(-μ**2/(-μ**2/(μ + sqrt(4*μ + 1)/2 + 1/2) + 2*μ + 1) + 2*μ + 1) + (-2*μ + sqrt(4*μ + 1) - 1)*(μ + sqrt(4*μ + 1)/2 + 1/2)*(μ + sqrt(4*μ + 1)/2 + 1/2)**(x - 2)/(2*sqrt(4*μ + 1)) + (μ - sqrt(4*μ + 1)/2 + 1/2)*(μ - sqrt(4*μ + 1)/2 + 1/2)**(x - 2)*(2*μ + sqrt(4*μ + 1) + 1)/(2*sqrt(4*μ + 1))), True)) + Piecewise((μ + sqrt(4*μ + 1)/2 + 1/2, x >= 1), (((-(λ - sqrt(4*λ + 1)/2 + 1/2)/(sqrt(4*λ + 1)*(λ - sqrt(4*λ + 1)/2 + 1/2)**x) + (λ + sqrt(4*λ + 1)/2 + 1/2)/(sqrt(4*λ + 1)*(λ + sqrt(4*λ + 1)/2 + 1/2)**x))*(λ - μ**2/(μ + sqrt(4*μ + 1)/2 + 1/2) + μ + 1) + (-2*λ + sqrt(4*λ + 1) - 1)*(λ + sqrt(4*λ + 1)/2 + 1/2)/(2*sqrt(4*λ + 1)*(λ + sqrt(4*λ + 1)/2 + 1/2)**x) + (λ - sqrt(4*λ + 1)/2 + 1/2)*(2*λ + sqrt(4*λ + 1) + 1)/(2*sqrt(4*λ + 1)*(λ - sqrt(4*λ + 1)/2 + 1/2)**x))/((1/(sqrt(4*λ + 1)*(λ + sqrt(4*λ + 1)/2 + 1/2)**x) - 1/(sqrt(4*λ + 1)*(λ - sqrt(4*λ + 1)/2 + 1/2)**x))*(λ - μ**2/(μ + sqrt(4*μ + 1)/2 + 1/2) + μ + 1) + (-2*λ + sqrt(4*λ + 1) - 1)/(2*sqrt(4*λ + 1)*(λ + sqrt(4*λ + 1)/2 + 1/2)**x) + (2*λ + sqrt(4*λ + 1) + 1)/(2*sqrt(4*λ + 1)*(λ - sqrt(4*λ + 1)/2 + 1/2)**x)), x <= 0))))) - 1))"
      ]
     },
     "metadata": {},
     "output_type": "display_data"
    }
   ],
   "source": [
    "dt = sp.log((2*sp.sqrt(asqr.replace(x,x-1)*asqr)*W)/(-1 + sp.sqrt(4*asqr.replace(x,x-1)*asqr*W*W+1)))\n",
    "display(dt)"
   ]
  },
  {
   "cell_type": "markdown",
   "id": "fdf6293d-77d8-41a2-a2c1-82c14343ad0c",
   "metadata": {},
   "source": [
    "# Domain Transform at $x_0$"
   ]
  },
  {
   "cell_type": "markdown",
   "id": "f5191814-b301-4def-ad18-368b61b2db2e",
   "metadata": {},
   "source": [
    "In the expression\n",
    "\n",
    "$ (t(0)-t(-1)) = -\\log \\left( \\frac{-1 + \\sqrt{4 a(-1)^2 a(0)^2W(0)^2+1}}{2 a(-1)a(0)W(0)}\\right)$"
   ]
  },
  {
   "cell_type": "markdown",
   "id": "263176fb-bbda-4e20-a2f2-821aaaaa9066",
   "metadata": {},
   "source": [
    "We then get the expression at the origin"
   ]
  },
  {
   "cell_type": "code",
   "execution_count": 103,
   "id": "d71e5b5d-29f3-4a44-b8e2-2be62bdb29fa",
   "metadata": {},
   "outputs": [
    {
     "data": {
      "text/latex": [
       "$\\displaystyle \\log{\\left(\\frac{2 μ \\sqrt{\\frac{1}{\\left(- \\frac{λ^{2}}{λ + \\frac{\\sqrt{4 λ + 1}}{2} + \\frac{1}{2}} + \\frac{\\left(- \\frac{λ - \\frac{\\sqrt{4 λ + 1}}{2} + \\frac{1}{2}}{\\sqrt{4 λ + 1}} + \\frac{λ + \\frac{\\sqrt{4 λ + 1}}{2} + \\frac{1}{2}}{\\sqrt{4 λ + 1}}\\right) \\left(λ - \\frac{μ^{2}}{μ + \\frac{\\sqrt{4 μ + 1}}{2} + \\frac{1}{2}} + μ + 1\\right) + \\frac{\\left(- 2 λ + \\sqrt{4 λ + 1} - 1\\right) \\left(λ + \\frac{\\sqrt{4 λ + 1}}{2} + \\frac{1}{2}\\right)}{2 \\sqrt{4 λ + 1}} + \\frac{\\left(λ - \\frac{\\sqrt{4 λ + 1}}{2} + \\frac{1}{2}\\right) \\left(2 λ + \\sqrt{4 λ + 1} + 1\\right)}{2 \\sqrt{4 λ + 1}}}{\\frac{- 2 λ + \\sqrt{4 λ + 1} - 1}{2 \\sqrt{4 λ + 1}} + \\frac{2 λ + \\sqrt{4 λ + 1} + 1}{2 \\sqrt{4 λ + 1}}}\\right) \\left(- \\frac{μ^{2}}{- \\frac{λ^{2}}{λ + \\frac{\\sqrt{4 λ + 1}}{2} + \\frac{1}{2}} + λ + μ + 1} + μ + \\frac{\\sqrt{4 μ + 1}}{2} + \\frac{1}{2}\\right)}}}{\\sqrt{\\frac{4 μ^{2}}{\\left(- \\frac{λ^{2}}{λ + \\frac{\\sqrt{4 λ + 1}}{2} + \\frac{1}{2}} + \\frac{\\left(- \\frac{λ - \\frac{\\sqrt{4 λ + 1}}{2} + \\frac{1}{2}}{\\sqrt{4 λ + 1}} + \\frac{λ + \\frac{\\sqrt{4 λ + 1}}{2} + \\frac{1}{2}}{\\sqrt{4 λ + 1}}\\right) \\left(λ - \\frac{μ^{2}}{μ + \\frac{\\sqrt{4 μ + 1}}{2} + \\frac{1}{2}} + μ + 1\\right) + \\frac{\\left(- 2 λ + \\sqrt{4 λ + 1} - 1\\right) \\left(λ + \\frac{\\sqrt{4 λ + 1}}{2} + \\frac{1}{2}\\right)}{2 \\sqrt{4 λ + 1}} + \\frac{\\left(λ - \\frac{\\sqrt{4 λ + 1}}{2} + \\frac{1}{2}\\right) \\left(2 λ + \\sqrt{4 λ + 1} + 1\\right)}{2 \\sqrt{4 λ + 1}}}{\\frac{- 2 λ + \\sqrt{4 λ + 1} - 1}{2 \\sqrt{4 λ + 1}} + \\frac{2 λ + \\sqrt{4 λ + 1} + 1}{2 \\sqrt{4 λ + 1}}}\\right) \\left(- \\frac{μ^{2}}{- \\frac{λ^{2}}{λ + \\frac{\\sqrt{4 λ + 1}}{2} + \\frac{1}{2}} + λ + μ + 1} + μ + \\frac{\\sqrt{4 μ + 1}}{2} + \\frac{1}{2}\\right)} + 1} - 1} \\right)}$"
      ],
      "text/plain": [
       "log(2*μ*sqrt(1/((-λ**2/(λ + sqrt(4*λ + 1)/2 + 1/2) + ((-(λ - sqrt(4*λ + 1)/2 + 1/2)/sqrt(4*λ + 1) + (λ + sqrt(4*λ + 1)/2 + 1/2)/sqrt(4*λ + 1))*(λ - μ**2/(μ + sqrt(4*μ + 1)/2 + 1/2) + μ + 1) + (-2*λ + sqrt(4*λ + 1) - 1)*(λ + sqrt(4*λ + 1)/2 + 1/2)/(2*sqrt(4*λ + 1)) + (λ - sqrt(4*λ + 1)/2 + 1/2)*(2*λ + sqrt(4*λ + 1) + 1)/(2*sqrt(4*λ + 1)))/((-2*λ + sqrt(4*λ + 1) - 1)/(2*sqrt(4*λ + 1)) + (2*λ + sqrt(4*λ + 1) + 1)/(2*sqrt(4*λ + 1))))*(-μ**2/(-λ**2/(λ + sqrt(4*λ + 1)/2 + 1/2) + λ + μ + 1) + μ + sqrt(4*μ + 1)/2 + 1/2)))/(sqrt(4*μ**2/((-λ**2/(λ + sqrt(4*λ + 1)/2 + 1/2) + ((-(λ - sqrt(4*λ + 1)/2 + 1/2)/sqrt(4*λ + 1) + (λ + sqrt(4*λ + 1)/2 + 1/2)/sqrt(4*λ + 1))*(λ - μ**2/(μ + sqrt(4*μ + 1)/2 + 1/2) + μ + 1) + (-2*λ + sqrt(4*λ + 1) - 1)*(λ + sqrt(4*λ + 1)/2 + 1/2)/(2*sqrt(4*λ + 1)) + (λ - sqrt(4*λ + 1)/2 + 1/2)*(2*λ + sqrt(4*λ + 1) + 1)/(2*sqrt(4*λ + 1)))/((-2*λ + sqrt(4*λ + 1) - 1)/(2*sqrt(4*λ + 1)) + (2*λ + sqrt(4*λ + 1) + 1)/(2*sqrt(4*λ + 1))))*(-μ**2/(-λ**2/(λ + sqrt(4*λ + 1)/2 + 1/2) + λ + μ + 1) + μ + sqrt(4*μ + 1)/2 + 1/2)) + 1) - 1))"
      ]
     },
     "execution_count": 103,
     "metadata": {},
     "output_type": "execute_result"
    }
   ],
   "source": [
    "dt.subs(x,0)"
   ]
  },
  {
   "cell_type": "markdown",
   "id": "9ca23ecd-86ad-4865-8bc2-dae7471d2662",
   "metadata": {},
   "source": [
    "At this point, we recommend using a more powerful software, such as Wolfram's Mathematica to perform a simplification on the expression above"
   ]
  }
 ],
 "metadata": {
  "kernelspec": {
   "display_name": "Python 3 (ipykernel)",
   "language": "python",
   "name": "python3"
  },
  "language_info": {
   "codemirror_mode": {
    "name": "ipython",
    "version": 3
   },
   "file_extension": ".py",
   "mimetype": "text/x-python",
   "name": "python",
   "nbconvert_exporter": "python",
   "pygments_lexer": "ipython3",
   "version": "3.12.1"
  }
 },
 "nbformat": 4,
 "nbformat_minor": 5
}
